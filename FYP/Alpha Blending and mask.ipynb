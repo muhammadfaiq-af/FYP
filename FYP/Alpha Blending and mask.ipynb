{
 "cells": [
  {
   "cell_type": "code",
   "execution_count": null,
   "id": "e427101b",
   "metadata": {},
   "outputs": [],
   "source": [
    "import cv2 as cv\n",
    "import numpy as np\n",
    "\n",
    "img = cv.imread(\"E:\\FYP\\Python Practice For FYP\\messi.jpeg\")\n",
    "img2 = cv.imread(\"E:\\FYP\\Python Practice For FYP\\opencv.png\")\n",
    "\n",
    "nimg = cv.resize(img, (500,500))\n",
    "nimg1 = cv .resize(img2, (500,500))\n",
    "# print(img.size)\n",
    "# print(img.dtype)\n",
    "# print(img.shape)\n",
    "\n",
    "b,g,r = cv.split(newimg)\n",
    "newimg = cv.merge((b,g,r))\n",
    "\n",
    "# ball = newimg[432:479, 463:480]\n",
    "# newimg[458:400, 489:401] = ball\n",
    "\n",
    "dst = cv.addWeighted(nimg, .9, nimg1, .1, 0)\n",
    "\n",
    "\n",
    "\n",
    "cv.imshow(\"Pic\", dst)\n",
    "cv.waitKey(0)\n",
    "\n",
    "cv.destroyAllWindows()"
   ]
  }
 ],
 "metadata": {
  "kernelspec": {
   "display_name": "Python 3",
   "language": "python",
   "name": "python3"
  },
  "language_info": {
   "codemirror_mode": {
    "name": "ipython",
    "version": 3
   },
   "file_extension": ".py",
   "mimetype": "text/x-python",
   "name": "python",
   "nbconvert_exporter": "python",
   "pygments_lexer": "ipython3",
   "version": "3.8.8"
  }
 },
 "nbformat": 4,
 "nbformat_minor": 5
}
