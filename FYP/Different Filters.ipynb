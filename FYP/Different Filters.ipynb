{
 "cells": [
  {
   "cell_type": "code",
   "execution_count": 44,
   "id": "6c4fdf05",
   "metadata": {},
   "outputs": [],
   "source": [
    "import cv2 as cv\n",
    "from matplotlib import pyplot as plt\n",
    "%matplotlib qt\n",
    "import numpy as np\n",
    "\n",
    "img = cv.imread(\"E:\\FYP\\Python Practice For FYP\\Salt and pepper.png\")\n",
    "# img = cv.resize(img, (700,800))\n",
    "img = cv.cvtColor(img, cv.COLOR_BGR2RGB)\n",
    "\n",
    "kernal = np.ones((5,5), np.float32) / 25  \n",
    "dst = cv.filter2D(img, -1, kernal)\n",
    "blur = cv.blur(img, (5,5))\n",
    "gblur = cv.GaussianBlur(img, (5,5), 0)\n",
    "mblur = cv.medianBlur(img, 5)\n",
    "bilateralFilter = cv.bilateralFilter(img, 2, 75, 75)\n",
    "images = [img, dst, blur, gblur, mblur, bilateralFilter]\n",
    "titles = [\"Original Image\", \"2D\", \"Blur\", \"Gaussian Blur\", \"Median Blur\", \"bilateralFilter\"]\n",
    "for i in range(6):\n",
    "    plt.subplot(2,3, i+1), plt.imshow(images[i])\n",
    "    plt.title(titles[i])\n",
    "    plt.xticks([])\n",
    "    plt.yticks([])\n",
    "\n",
    "plt.show()"
   ]
  },
  {
   "cell_type": "code",
   "execution_count": null,
   "id": "ea623a3a",
   "metadata": {},
   "outputs": [],
   "source": []
  }
 ],
 "metadata": {
  "kernelspec": {
   "display_name": "Python 3",
   "language": "python",
   "name": "python3"
  },
  "language_info": {
   "codemirror_mode": {
    "name": "ipython",
    "version": 3
   },
   "file_extension": ".py",
   "mimetype": "text/x-python",
   "name": "python",
   "nbconvert_exporter": "python",
   "pygments_lexer": "ipython3",
   "version": "3.8.8"
  }
 },
 "nbformat": 4,
 "nbformat_minor": 5
}
