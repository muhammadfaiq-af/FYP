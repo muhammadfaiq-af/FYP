{
 "cells": [
  {
   "cell_type": "code",
   "execution_count": 2,
   "id": "4e3a08a6",
   "metadata": {},
   "outputs": [
    {
     "name": "stdout",
     "output_type": "stream",
     "text": [
      "640.0\n",
      "480.0\n"
     ]
    }
   ],
   "source": [
    "import cv2 as cv\n",
    "import datetime\n",
    "cap = cv.VideoCapture(0)\n",
    "\n",
    "\n",
    "print(cap.get(cv.CAP_PROP_FRAME_WIDTH)) # Getting Frame Width\n",
    "print(cap.get(cv.CAP_PROP_FRAME_HEIGHT)) # Getting Frame Height\n",
    "\n",
    "while(cap.isOpened()):\n",
    "    ret , frame = cap.read() \n",
    "    \n",
    "    if ret == True:\n",
    "        \n",
    "        font = cv.FONT_HERSHEY_SIMPLEX\n",
    "        text = 'Widht : ' + str(cap.get(3)) + 'Height : ' + str(cap.get(4)) # Setting Width and Height on frame after Getting it\n",
    "        Current_Date = str(datetime.datetime.now()) # Conveting current date and time into string\n",
    "        #frame = cv.putText(frame, text, (10,50), font , 1, (0,255,255), 2, cv.LINE_AA) # putting text on frame\n",
    "        frame = cv.putText(frame, Current_Date, (10,50), font , 1, (0,255,255), 2, cv.LINE_AA) # Putting Date time on Frame \n",
    "        cv.imshow(\"Text on Video\", frame) # Showing on frame\n",
    "        \n",
    "        if cv.waitKey(1) & 0xFF == ord ('q'):\n",
    "            break\n",
    "    else:\n",
    "            break\n",
    "cap.release()\n",
    "cv.destroyAllWindows()\n",
    "        "
   ]
  },
  {
   "cell_type": "code",
   "execution_count": null,
   "id": "0fb7def0",
   "metadata": {},
   "outputs": [],
   "source": []
  },
  {
   "cell_type": "code",
   "execution_count": null,
   "id": "afc440d4",
   "metadata": {},
   "outputs": [],
   "source": []
  }
 ],
 "metadata": {
  "kernelspec": {
   "display_name": "Python 3",
   "language": "python",
   "name": "python3"
  },
  "language_info": {
   "codemirror_mode": {
    "name": "ipython",
    "version": 3
   },
   "file_extension": ".py",
   "mimetype": "text/x-python",
   "name": "python",
   "nbconvert_exporter": "python",
   "pygments_lexer": "ipython3",
   "version": "3.8.8"
  }
 },
 "nbformat": 4,
 "nbformat_minor": 5
}
