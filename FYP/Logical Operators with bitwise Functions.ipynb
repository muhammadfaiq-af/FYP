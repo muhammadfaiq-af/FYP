{
 "cells": [
  {
   "cell_type": "code",
   "execution_count": 22,
   "id": "a0f92399",
   "metadata": {},
   "outputs": [
    {
     "data": {
      "text/plain": [
       "<function destroyAllWindows>"
      ]
     },
     "execution_count": 22,
     "metadata": {},
     "output_type": "execute_result"
    }
   ],
   "source": [
    "import cv2 as cv\n",
    "import numpy as np\n",
    "\n",
    "img1 = np.zeros((250,500,3) , np.uint8)\n",
    "img1 = cv.rectangle(img1, (200,0), (300,100), (255,255,255), -1)\n",
    "img2 = cv.imread(\"E:\\FYP\\Python Practice For FYP\\BW.jpg\")\n",
    "img2 = cv.resize(img2, (500,250))\n",
    "\n",
    "#bitAnd = cv.bitwise_and(img2, img1)\n",
    "# bitOR = cv.bitwise_or(img2, img1)\n",
    "# bitXOR = cv.bitwise_xor(img2, img1)\n",
    "\n",
    "#bitNOT1 = cv.bitwise_not(img1)\n",
    "bitNOT2 = cv.bitwise_not(img2)\n",
    "\n",
    "#cv.imshow(\"bitAnd\", bitAnd)\n",
    "# cv.imshow(\"bitor\", bitOR)\n",
    "# cv.imshow(\"bitXOR\", bitXOR)\n",
    "\n",
    "# cv.imshow(\"bitNOT1\", bitNOT1)\n",
    "cv.imshow(\"bitNOT2\", bitNOT2)\n",
    "\n",
    "#cv.imshow(\"img1\", img1)\n",
    "cv.imshow(\"img2\", img2)\n",
    "cv.waitKey(0)\n",
    "cv.destroyAllWindows"
   ]
  },
  {
   "cell_type": "code",
   "execution_count": null,
   "id": "f927d84b",
   "metadata": {},
   "outputs": [],
   "source": []
  }
 ],
 "metadata": {
  "kernelspec": {
   "display_name": "Python 3",
   "language": "python",
   "name": "python3"
  },
  "language_info": {
   "codemirror_mode": {
    "name": "ipython",
    "version": 3
   },
   "file_extension": ".py",
   "mimetype": "text/x-python",
   "name": "python",
   "nbconvert_exporter": "python",
   "pygments_lexer": "ipython3",
   "version": "3.8.8"
  }
 },
 "nbformat": 4,
 "nbformat_minor": 5
}
