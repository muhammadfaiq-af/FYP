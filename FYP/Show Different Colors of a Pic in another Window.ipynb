{
 "cells": [
  {
   "cell_type": "code",
   "execution_count": 12,
   "id": "00eb4e04",
   "metadata": {},
   "outputs": [],
   "source": [
    "import cv2 as cv\n",
    "import numpy as np\n",
    "\n",
    "def mouse_event(event, x, y, flags, param):\n",
    "    if event == cv.EVENT_RBUTTONDOWN:\n",
    "        blue = output[x, y, 0]\n",
    "        green = output[x, y, 1]\n",
    "        red = output[x, y, 2]\n",
    "        cv.circle(output, (x,y), 3, (0,0,255), -1)\n",
    "        colorimage = np.zeros((500, 500, 3 ), np.uint8)\n",
    "        colorimage[:] = [blue, green, red]\n",
    "        cv.imshow(\"Color\", colorimage)\n",
    "        \n",
    "img = cv.imread(\"E:\\FYP\\Python Practice For FYP\\Faiq.jpg\")\n",
    "output = cv.resize(img, (500,700), interpolation = cv.INTER_AREA)\n",
    "cv.imshow(\"Window\", output)\n",
    "\n",
    "cv.setMouseCallback(\"Window\", mouse_event)\n",
    "cv.waitKey(0)\n",
    "cv.destroyAllWindows()"
   ]
  },
  {
   "cell_type": "code",
   "execution_count": null,
   "id": "bdae5bf2",
   "metadata": {},
   "outputs": [],
   "source": []
  },
  {
   "cell_type": "code",
   "execution_count": 21,
   "id": "38706df2",
   "metadata": {},
   "outputs": [],
   "source": []
  },
  {
   "cell_type": "code",
   "execution_count": null,
   "id": "e6979128",
   "metadata": {},
   "outputs": [],
   "source": []
  }
 ],
 "metadata": {
  "kernelspec": {
   "display_name": "Python 3",
   "language": "python",
   "name": "python3"
  },
  "language_info": {
   "codemirror_mode": {
    "name": "ipython",
    "version": 3
   },
   "file_extension": ".py",
   "mimetype": "text/x-python",
   "name": "python",
   "nbconvert_exporter": "python",
   "pygments_lexer": "ipython3",
   "version": "3.8.8"
  }
 },
 "nbformat": 4,
 "nbformat_minor": 5
}
