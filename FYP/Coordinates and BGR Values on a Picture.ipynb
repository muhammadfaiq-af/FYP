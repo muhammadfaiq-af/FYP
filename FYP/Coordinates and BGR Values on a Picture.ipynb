{
 "cells": [
  {
   "cell_type": "code",
   "execution_count": 3,
   "id": "7c81caf4",
   "metadata": {},
   "outputs": [
    {
     "name": "stdout",
     "output_type": "stream",
     "text": [
      "['EVENT_FLAG_ALTKEY', 'EVENT_FLAG_CTRLKEY', 'EVENT_FLAG_LBUTTON', 'EVENT_FLAG_MBUTTON', 'EVENT_FLAG_RBUTTON', 'EVENT_FLAG_SHIFTKEY', 'EVENT_LBUTTONDBLCLK', 'EVENT_LBUTTONDOWN', 'EVENT_LBUTTONUP', 'EVENT_MBUTTONDBLCLK', 'EVENT_MBUTTONDOWN', 'EVENT_MBUTTONUP', 'EVENT_MOUSEHWHEEL', 'EVENT_MOUSEMOVE', 'EVENT_MOUSEWHEEL', 'EVENT_RBUTTONDBLCLK', 'EVENT_RBUTTONDOWN', 'EVENT_RBUTTONUP']\n"
     ]
    }
   ],
   "source": [
    "import cv2 as cv\n",
    "import numpy as np\n",
    "\n",
    "event = [i for i in dir(cv) if 'EVENT' in i] ''' cv ki directory ma jitna ma event name ka Functions hain us ki\n",
    "list dekhana ka lia yeh line of code likha hai'''\n",
    "print(event)"
   ]
  },
  {
   "cell_type": "code",
   "execution_count": 9,
   "id": "be4a25a3",
   "metadata": {},
   "outputs": [
    {
     "name": "stdout",
     "output_type": "stream",
     "text": [
      "516 329\n",
      "520 456\n"
     ]
    }
   ],
   "source": [
    "def mouse_event(event, x, y, flag, param): # funtion declare kia hai ji ma 5 aruguments use hon hain flag and param compulsory hain\n",
    "    if event == cv.EVENT_LBUTTONDOWN: # agr Mouse ka left nutton press ho to\n",
    "        print(x,y)\n",
    "        font = cv.FONT_HERSHEY_SIMPLEX\n",
    "        strXY = str(x) + ',' + str(y) # x ur y ki values get hon gi\n",
    "        cv.putText(img, strXY, (x, y), font, 1, (255,40,3), 2)\n",
    "        cv.imshow(\"Coordinates and BGR Values\", img)\n",
    "        \n",
    "    if event == cv.EVENT_RBUTTONDOWN: # agr Mouse ka Right nutton press ho to\n",
    "        blue = img[y, x, 0] # BGR Format ki values get hon gi\n",
    "        green = img[y, x, 1]\n",
    "        red = img[y, x, 2]\n",
    "        font = cv.FONT_HERSHEY_SIMPLEX\n",
    "        strBGR = str(blue) + ',' + str(green) + ',' + str(red)\n",
    "        cv.putText(img, strBGR, (x, y), font, 1, (30,50,32), 2)\n",
    "        cv.imshow(\"Coordinates and BGR Values\", img)\n",
    "        \n",
    "img = cv.imread(\"E:\\FYP\\Python Practice For FYP\\Faiq.jpg\")\n",
    "output = cv.resize(img, (500,600), interpolation = cv.INTER_AREA)\n",
    "cv.imshow(\"Coordinates and BGR Values\", output)\n",
    "\n",
    "cv.setMouseCallback(\"Coordinates and BGR Values\", mouse_event)\n",
    "cv.waitKey(0)\n",
    "cv.destroyAllWindows()"
   ]
  },
  {
   "cell_type": "code",
   "execution_count": null,
   "id": "813be92c",
   "metadata": {},
   "outputs": [],
   "source": []
  },
  {
   "cell_type": "code",
   "execution_count": null,
   "id": "92e315ae",
   "metadata": {},
   "outputs": [],
   "source": []
  }
 ],
 "metadata": {
  "kernelspec": {
   "display_name": "Python 3",
   "language": "python",
   "name": "python3"
  },
  "language_info": {
   "codemirror_mode": {
    "name": "ipython",
    "version": 3
   },
   "file_extension": ".py",
   "mimetype": "text/x-python",
   "name": "python",
   "nbconvert_exporter": "python",
   "pygments_lexer": "ipython3",
   "version": "3.8.8"
  }
 },
 "nbformat": 4,
 "nbformat_minor": 5
}
