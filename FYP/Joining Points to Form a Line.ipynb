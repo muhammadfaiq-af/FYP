{
 "cells": [
  {
   "cell_type": "code",
   "execution_count": null,
   "id": "d84881fe",
   "metadata": {},
   "outputs": [],
   "source": [
    "import cv2 as cv\n",
    "import numpy as np\n",
    "\n",
    "def mouse_event(event, x, y, flags, param):\n",
    "    if event == cv.EVENT_LBUTTONDOWN:\n",
    "        cv.circle(output, (x, y), 3, (23,44,65), -1)\n",
    "        points.append((x, y))\n",
    "        \n",
    "        if len(points) >= 2:\n",
    "            cv.line(output, points[-1], points[-2], (23,45,22), 3)\n",
    "        cv.imshow(\"Window\", output)\n",
    "        \n",
    "img = cv.imread(\"E:\\FYP\\Python Practice For FYP\\Faiq.jpg\")\n",
    "output = cv.resize(img, (500,700), interpolation = cv.INTER_AREA)\n",
    "cv.imshow(\"Window\", output)\n",
    "points = []\n",
    "cv.setMouseCallback(\"Window\", mouse_event)\n",
    "cv.waitKey(0)\n",
    "cv.destroyAllWindows()"
   ]
  }
 ],
 "metadata": {
  "kernelspec": {
   "display_name": "Python 3",
   "language": "python",
   "name": "python3"
  },
  "language_info": {
   "codemirror_mode": {
    "name": "ipython",
    "version": 3
   },
   "file_extension": ".py",
   "mimetype": "text/x-python",
   "name": "python",
   "nbconvert_exporter": "python",
   "pygments_lexer": "ipython3",
   "version": "3.8.8"
  }
 },
 "nbformat": 4,
 "nbformat_minor": 5
}
