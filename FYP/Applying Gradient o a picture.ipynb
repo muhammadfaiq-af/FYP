{
 "cells": [
  {
   "cell_type": "code",
   "execution_count": 18,
   "id": "256e6800",
   "metadata": {},
   "outputs": [],
   "source": [
    "import cv2 as cv\n",
    "import numpy as np\n",
    "%matplotlib qt\n",
    "from matplotlib import pyplot as plt\n",
    " \n",
    "img = cv.imread(\"E:\\FYP\\Python Practice For FYP\\messi.jpeg\", 0)\n",
    "lap = cv.Laplacian(img, cv.CV_64F, ksize = 3)\n",
    "lap = np.uint8(np.absolute(lap))\n",
    "SobelX = cv.Sobel(img, cv.CV_64F, 1, 0)\n",
    "SobelY = cv.Sobel(img, cv.CV_64F, 0, 1)\n",
    "\n",
    "SobelX = np.uint8(np.absolute(SobelX))\n",
    "SobelY = np.uint8(np.absolute(SobelY))\n",
    "\n",
    "sobelcombine = cv.bitwise_or(SobelX, SobelY)\n",
    "\n",
    "image = [img, lap, SobelX, SobelY, sobelcombine]\n",
    "title = [\"Original Image\", \"lap\", \"SobleX\", \"SobelY\", \"sobelcombine\"]\n",
    "\n",
    "for i in range(5):\n",
    "    plt.subplot(2,4, i+1), plt.imshow(image[i], \"gray\")\n",
    "    plt.title(title[i])\n",
    "    plt.xticks([])\n",
    "    plt.yticks([])\n",
    "    \n",
    "plt.show()"
   ]
  },
  {
   "cell_type": "code",
   "execution_count": null,
   "id": "e0905749",
   "metadata": {},
   "outputs": [],
   "source": []
  }
 ],
 "metadata": {
  "kernelspec": {
   "display_name": "Python 3",
   "language": "python",
   "name": "python3"
  },
  "language_info": {
   "codemirror_mode": {
    "name": "ipython",
    "version": 3
   },
   "file_extension": ".py",
   "mimetype": "text/x-python",
   "name": "python",
   "nbconvert_exporter": "python",
   "pygments_lexer": "ipython3",
   "version": "3.8.8"
  }
 },
 "nbformat": 4,
 "nbformat_minor": 5
}
