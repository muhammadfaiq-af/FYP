{
 "cells": [
  {
   "cell_type": "code",
   "execution_count": 1,
   "id": "3ee30d48",
   "metadata": {},
   "outputs": [
    {
     "name": "stdout",
     "output_type": "stream",
     "text": [
      "1\n",
      "6\n",
      "12\n",
      "19\n",
      "28\n",
      "39\n",
      "55\n",
      "74\n",
      "93\n",
      "113\n",
      "134\n",
      "152\n",
      "171\n",
      "188\n",
      "205\n",
      "220\n",
      "235\n",
      "248\n",
      "255\n",
      "1\n",
      "1\n",
      "2\n",
      "4\n",
      "7\n",
      "12\n",
      "19\n",
      "28\n",
      "41\n",
      "55\n",
      "72\n",
      "91\n",
      "113\n",
      "134\n",
      "155\n",
      "178\n",
      "196\n",
      "210\n",
      "223\n",
      "233\n",
      "239\n",
      "245\n",
      "248\n",
      "251\n",
      "252\n"
     ]
    },
    {
     "ename": "error",
     "evalue": "OpenCV(4.5.3) C:\\Users\\runneradmin\\AppData\\Local\\Temp\\pip-req-build-q3d_8t8e\\opencv\\modules\\highgui\\src\\window_w32.cpp:2577: error: (-27:Null pointer) NULL window: 'BGR COLOR Finder' in function 'cvGetTrackbarPos'\n",
     "output_type": "error",
     "traceback": [
      "\u001b[1;31m---------------------------------------------------------------------------\u001b[0m",
      "\u001b[1;31merror\u001b[0m                                     Traceback (most recent call last)",
      "\u001b[1;32m<ipython-input-1-1f72d95e3ed5>\u001b[0m in \u001b[0;36m<module>\u001b[1;34m\u001b[0m\n\u001b[0;32m     19\u001b[0m     \u001b[1;32mif\u001b[0m \u001b[0mk\u001b[0m \u001b[1;33m==\u001b[0m \u001b[1;36m27\u001b[0m\u001b[1;33m:\u001b[0m\u001b[1;33m\u001b[0m\u001b[1;33m\u001b[0m\u001b[0m\n\u001b[0;32m     20\u001b[0m         \u001b[1;32mbreak\u001b[0m\u001b[1;33m\u001b[0m\u001b[1;33m\u001b[0m\u001b[0m\n\u001b[1;32m---> 21\u001b[1;33m     \u001b[0mb\u001b[0m \u001b[1;33m=\u001b[0m \u001b[0mcv\u001b[0m\u001b[1;33m.\u001b[0m\u001b[0mgetTrackbarPos\u001b[0m\u001b[1;33m(\u001b[0m\u001b[1;34m\"B\"\u001b[0m\u001b[1;33m,\u001b[0m \u001b[1;34m\"BGR COLOR Finder\"\u001b[0m\u001b[1;33m)\u001b[0m\u001b[1;33m\u001b[0m\u001b[1;33m\u001b[0m\u001b[0m\n\u001b[0m\u001b[0;32m     22\u001b[0m     \u001b[0mg\u001b[0m \u001b[1;33m=\u001b[0m \u001b[0mcv\u001b[0m\u001b[1;33m.\u001b[0m\u001b[0mgetTrackbarPos\u001b[0m\u001b[1;33m(\u001b[0m\u001b[1;34m\"G\"\u001b[0m\u001b[1;33m,\u001b[0m \u001b[1;34m\"BGR COLOR Finder\"\u001b[0m\u001b[1;33m)\u001b[0m\u001b[1;33m\u001b[0m\u001b[1;33m\u001b[0m\u001b[0m\n\u001b[0;32m     23\u001b[0m     \u001b[0mr\u001b[0m \u001b[1;33m=\u001b[0m \u001b[0mcv\u001b[0m\u001b[1;33m.\u001b[0m\u001b[0mgetTrackbarPos\u001b[0m\u001b[1;33m(\u001b[0m\u001b[1;34m\"R\"\u001b[0m\u001b[1;33m,\u001b[0m \u001b[1;34m\"BGR COLOR Finder\"\u001b[0m\u001b[1;33m)\u001b[0m\u001b[1;33m\u001b[0m\u001b[1;33m\u001b[0m\u001b[0m\n",
      "\u001b[1;31merror\u001b[0m: OpenCV(4.5.3) C:\\Users\\runneradmin\\AppData\\Local\\Temp\\pip-req-build-q3d_8t8e\\opencv\\modules\\highgui\\src\\window_w32.cpp:2577: error: (-27:Null pointer) NULL window: 'BGR COLOR Finder' in function 'cvGetTrackbarPos'\n"
     ]
    }
   ],
   "source": [
    "import cv2 as cv\n",
    "import numpy as np\n",
    "def nothing(x):\n",
    "    print(x)\n",
    "\n",
    "img = np.zeros((300,500,3), np.uint8)\n",
    "cv.namedWindow(\"BGR COLOR Finder\")\n",
    "\n",
    "cv.createTrackbar(\"B\", \"BGR COLOR Finder\", 0, 255, nothing)\n",
    "cv.createTrackbar(\"G\", \"BGR COLOR Finder\", 0, 255, nothing)\n",
    "cv.createTrackbar(\"R\", \"BGR COLOR Finder\", 0, 255, nothing)\n",
    "switch = \"0 : 0FF\\n 1 : ON\"\n",
    "cv.createTrackbar(switch, \"BGR COLOR Finder\", 0, 1, nothing)\n",
    "\n",
    "while(1):\n",
    "    cv.imshow(\"BGR COLOR Finder\", img)\n",
    "    k = cv.waitKey(1) & 0xFF\n",
    "    \n",
    "    if k == 27:\n",
    "        break\n",
    "    b = cv.getTrackbarPos(\"B\", \"BGR COLOR Finder\")\n",
    "    g = cv.getTrackbarPos(\"G\", \"BGR COLOR Finder\")\n",
    "    r = cv.getTrackbarPos(\"R\", \"BGR COLOR Finder\")\n",
    "    \n",
    "    s = cv.getTrackbarPos(switch, \"BGR COLOR Finder\")\n",
    "    \n",
    "    if s == 1:\n",
    "        pass\n",
    "    else:\n",
    "        img[:] = [b, g, r]\n",
    "    \n",
    "cv.detroyAllWindows()"
   ]
  },
  {
   "cell_type": "code",
   "execution_count": null,
   "id": "563c503a",
   "metadata": {},
   "outputs": [],
   "source": []
  }
 ],
 "metadata": {
  "kernelspec": {
   "display_name": "Python 3",
   "language": "python",
   "name": "python3"
  },
  "language_info": {
   "codemirror_mode": {
    "name": "ipython",
    "version": 3
   },
   "file_extension": ".py",
   "mimetype": "text/x-python",
   "name": "python",
   "nbconvert_exporter": "python",
   "pygments_lexer": "ipython3",
   "version": "3.8.8"
  }
 },
 "nbformat": 4,
 "nbformat_minor": 5
}
