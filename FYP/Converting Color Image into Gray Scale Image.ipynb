{
 "cells": [
  {
   "cell_type": "code",
   "execution_count": 14,
   "id": "6447454e",
   "metadata": {},
   "outputs": [
    {
     "name": "stdout",
     "output_type": "stream",
     "text": [
      "10\n"
     ]
    }
   ],
   "source": [
    "import cv2 as cv\n",
    "import numpy as np\n",
    "\n",
    "def nothing(x):\n",
    "    print(x)\n",
    "cv.namedWindow(\"Color To Gray\")\n",
    "cv.createTrackbar(\"C2G\", \"Color To Gray\", 10, 400, nothing)\n",
    "\n",
    "switch = \"color/gray\"\n",
    "cv.createTrackbar(switch, \"Color To Gray\", 0, 1, nothing)\n",
    "\n",
    "while(1):\n",
    "    img = cv.imread(\"E:\\FYP\\Python Practice For FYP\\Faiq.jpg\")\n",
    "    img = cv.resize(img, (400,500))\n",
    "    pos = cv.getTrackbarPos(\"C2G\", \"Color To Gray\")\n",
    "    font = cv.FONT_HERSHEY_SIMPLEX\n",
    "    cv.putText(img, str(pos), (0,300), font, 1, (0,0,0), 3)\n",
    "    \n",
    "    if cv.waitKey(1) & 0xFF == ord ('c'):\n",
    "        break\n",
    "    s = cv.getTrackbarPos(switch, \"Color To Gray\")    \n",
    "    if s == 0:\n",
    "        pass\n",
    "    else:\n",
    "        img = cv.cvtColor(img, cv.COLOR_BGR2GRAY)\n",
    "    cv.imshow(\"Color To Gray\", img)\n",
    "    \n",
    "cv.destroyAllWindows()"
   ]
  },
  {
   "cell_type": "code",
   "execution_count": null,
   "id": "4064d6de",
   "metadata": {},
   "outputs": [],
   "source": []
  },
  {
   "cell_type": "code",
   "execution_count": null,
   "id": "81778abe",
   "metadata": {},
   "outputs": [],
   "source": []
  }
 ],
 "metadata": {
  "kernelspec": {
   "display_name": "Python 3",
   "language": "python",
   "name": "python3"
  },
  "language_info": {
   "codemirror_mode": {
    "name": "ipython",
    "version": 3
   },
   "file_extension": ".py",
   "mimetype": "text/x-python",
   "name": "python",
   "nbconvert_exporter": "python",
   "pygments_lexer": "ipython3",
   "version": "3.8.8"
  }
 },
 "nbformat": 4,
 "nbformat_minor": 5
}
