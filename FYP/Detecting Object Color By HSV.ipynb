{
 "cells": [
  {
   "cell_type": "code",
   "execution_count": 6,
   "id": "64c3bb20",
   "metadata": {},
   "outputs": [],
   "source": [
    "import cv2 as cv \n",
    "import numpy as np\n",
    "\n",
    "def nothing(x):\n",
    "    pass\n",
    "cv.namedWindow(\"Tracking\")\n",
    "\n",
    "cv.createTrackbar(\"LH\", \"Tracking\", 0, 255, nothing)\n",
    "cv.createTrackbar(\"LS\", \"Tracking\", 0, 255, nothing)\n",
    "cv.createTrackbar(\"LV\", \"Tracking\", 0, 255, nothing)\n",
    "cv.createTrackbar(\"UH\", \"Tracking\", 255, 255,  nothing)\n",
    "cv.createTrackbar(\"US\", \"Tracking\", 255, 255, nothing)\n",
    "cv.createTrackbar(\"UV\", \"Tracking\", 255, 255, nothing)\n",
    "\n",
    "\n",
    "while True:\n",
    "    img = cv.imread(\"E:\\FYP\\Python Practice For FYP\\Faiq.jpg\")\n",
    "    img = cv.resize(img, (500,300))\n",
    "    \n",
    "    hsv = cv.cvtColor(img, cv.COLOR_BGR2HSV)\n",
    "        \n",
    "    LH = cv.getTrackbarPos(\"LH\", \"Tracking\")\n",
    "    LS = cv.getTrackbarPos(\"LS\", \"Tracking\")\n",
    "    LV = cv.getTrackbarPos(\"LV\", \"Tracking\")\n",
    "\n",
    "    UH = cv.getTrackbarPos(\"UH\", \"Tracking\")\n",
    "    US = cv.getTrackbarPos(\"US\", \"Tracking\")\n",
    "    UV = cv.getTrackbarPos(\"UV\", \"Tracking\")\n",
    "\n",
    "    l_b = np.array([LH, LS, LV])\n",
    "    u_b = np.array([UH, US, UV])\n",
    "    \n",
    "    mask = cv.inRange(hsv, l_b, u_b)\n",
    "    \n",
    "    result = cv.bitwise_and(img, img, mask = mask)\n",
    "    \n",
    "    cv.imshow(\"frame\", img)\n",
    "    cv.imshow(\"mask\", mask)\n",
    "    cv.imshow(\"result\", result)\n",
    "    \n",
    "    key = cv.waitKey(1)\n",
    "    if key == 27:\n",
    "        break\n",
    "        \n",
    "cv.destroyAllWindows()"
   ]
  },
  {
   "cell_type": "code",
   "execution_count": null,
   "id": "eb3879b6",
   "metadata": {},
   "outputs": [],
   "source": []
  }
 ],
 "metadata": {
  "kernelspec": {
   "display_name": "Python 3",
   "language": "python",
   "name": "python3"
  },
  "language_info": {
   "codemirror_mode": {
    "name": "ipython",
    "version": 3
   },
   "file_extension": ".py",
   "mimetype": "text/x-python",
   "name": "python",
   "nbconvert_exporter": "python",
   "pygments_lexer": "ipython3",
   "version": "3.8.8"
  }
 },
 "nbformat": 4,
 "nbformat_minor": 5
}
