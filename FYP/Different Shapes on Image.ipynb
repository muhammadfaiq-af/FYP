{
 "cells": [
  {
   "cell_type": "code",
   "execution_count": 29,
   "id": "ff7801bb",
   "metadata": {},
   "outputs": [],
   "source": [
    "import cv2\n",
    "\n",
    "img = cv2.imread(\"E:/FYP/Python Practice For FYP/Faiq.jpg\")\n",
    "\n",
    "output = cv2.resize(img, (500,600), interpolation = cv2.INTER_AREA)\n",
    "\n",
    "\n",
    "output = cv2.line(output, (0,0), (200,200), (255,0,255), 5) # (that Image, start wala point line ka, End wala Point, Color , Thicknes)\n",
    "output = cv2.arrowedLine(output, (250,150), (300,200), (0,255,25), 5) # (that Image, start wala point line ka, End wala Point, Color , Thicknes)\n",
    "output = cv2.rectangle(output , (0,100), (100,0), (0,0,50), 3) # (that Image, (X1, Y1), (X2, Y2), Color , Thicknes)\n",
    "output = cv2.rectangle(output , (200,100), (100,200), (0,0,50),-1) # (Same wohi hai but Last ma -1 hai that means it is for filled Rectangle)\n",
    "output = cv2.circle(output, (450,300), 60, (70,0,0), 2)# (that Image, (Centre wala 2 Points), (Radius), Color , Thicknes)\n",
    "output = cv2.circle(output, (300,450), 60, (70,0,0), -1)# (Same wohi hai but Last ma -1 hai that means it is for filled Circle)\n",
    "font = cv2.FONT_HERSHEY_SIMPLEX # Fonts\n",
    "output = cv2.putText(output, \"Faiq Qadri\", (10,450), font , 2, (255,255,255), 5, cv2.LINE_AA)# (That image, Tet which u want to write, (start points of Text), font style, size of font, color, Thickness)\n",
    "\n",
    "cv2.imshow(\"Diffrent Shapes\",output)\n",
    " \n",
    "cv2.waitKey(0) \n",
    "cv2.destroyAllWindows()"
   ]
  },
  {
   "cell_type": "code",
   "execution_count": null,
   "id": "e043425c",
   "metadata": {},
   "outputs": [],
   "source": []
  },
  {
   "cell_type": "code",
   "execution_count": null,
   "id": "9609e700",
   "metadata": {},
   "outputs": [],
   "source": []
  }
 ],
 "metadata": {
  "kernelspec": {
   "display_name": "Python 3",
   "language": "python",
   "name": "python3"
  },
  "language_info": {
   "codemirror_mode": {
    "name": "ipython",
    "version": 3
   },
   "file_extension": ".py",
   "mimetype": "text/x-python",
   "name": "python",
   "nbconvert_exporter": "python",
   "pygments_lexer": "ipython3",
   "version": "3.8.8"
  }
 },
 "nbformat": 4,
 "nbformat_minor": 5
}
