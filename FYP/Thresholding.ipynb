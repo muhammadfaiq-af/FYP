{
 "cells": [
  {
   "cell_type": "code",
   "execution_count": 8,
   "id": "3fe2af5b",
   "metadata": {},
   "outputs": [],
   "source": [
    "import cv2 as cv\n",
    "\n",
    "img = cv.imread(\"E:\\FYP\\Python Practice For FYP\\images.jpg\")\n",
    "img = cv.resize(img, (300,200))\n",
    "\n",
    "\n",
    "_, Th1 = cv.threshold(img, 120, 255, cv.THRESH_BINARY)\n",
    "_, Th2 = cv.threshold(img, 120,255, cv.THRESH_BINARY_INV)\n",
    "_, Th3 = cv.threshold(img, 127, 255, cv.THRESH_TRUNC)\n",
    "_, Th4 = cv.threshold(img, 60, 255, cv.THRESH_TOZERO)\n",
    "_, Th5 = cv.threshold(img, 60, 255, cv.THRESH_TOZERO_INV)\n",
    "\n",
    "\n",
    "cv.imshow(\"Threshholding\", img)\n",
    "cv.imshow(\"Th1\", Th1)\n",
    "cv.imshow(\"Th2\", Th2)\n",
    "cv.imshow(\"Th3\", Th3)\n",
    "cv.imshow(\"Th4\", Th4)\n",
    "cv.imshow(\"Th5\", Th5)\n",
    "cv.waitKey(0)\n",
    "cv.destroyAllWindows()"
   ]
  },
  {
   "cell_type": "code",
   "execution_count": null,
   "id": "77f621db",
   "metadata": {},
   "outputs": [],
   "source": []
  },
  {
   "cell_type": "code",
   "execution_count": null,
   "id": "56d2e132",
   "metadata": {},
   "outputs": [],
   "source": []
  }
 ],
 "metadata": {
  "kernelspec": {
   "display_name": "Python 3",
   "language": "python",
   "name": "python3"
  },
  "language_info": {
   "codemirror_mode": {
    "name": "ipython",
    "version": 3
   },
   "file_extension": ".py",
   "mimetype": "text/x-python",
   "name": "python",
   "nbconvert_exporter": "python",
   "pygments_lexer": "ipython3",
   "version": "3.8.8"
  }
 },
 "nbformat": 4,
 "nbformat_minor": 5
}
