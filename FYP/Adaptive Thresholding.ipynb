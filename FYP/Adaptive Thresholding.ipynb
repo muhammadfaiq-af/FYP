{
 "cells": [
  {
   "cell_type": "code",
   "execution_count": 3,
   "id": "21eb19db",
   "metadata": {},
   "outputs": [],
   "source": [
    "import cv2 as cv\n",
    "\n",
    "img = cv.imread(\"E:\\FYP\\Python Practice For FYP\\Anam.jpg\")\n",
    "img = cv.resize(img, (500,600))\n",
    "img = cv.cvtColor(img, cv.COLOR_BGR2GRAY)\n",
    "_, th1 = cv.threshold(img, 127, 255, cv.THRESH_BINARY)\n",
    "Th2 = cv.adaptiveThreshold(img, 255, cv.ADAPTIVE_THRESH_MEAN_C, cv.THRESH_BINARY, 11, 2)\n",
    "Th3 = cv.adaptiveThreshold(img, 255, cv.ADAPTIVE_THRESH_GAUSSIAN_C, cv.THRESH_BINARY, 11, 2)\n",
    "\n",
    "cv.imshow(\"Image\", img)\n",
    "cv.imshow(\"Adaptive Threshold\", Th2)\n",
    "cv.imshow(\"Guassian\", Th3)\n",
    "\n",
    "cv.waitKey(0)\n",
    "cv.destroyAllWindows()\n",
    "\n",
    "# Adptive Thresholding sirf Gray scale image pa kaam karta hai...\n",
    "#to Phla aap ko apna coloured image ko gray scale ma convert karna parega"
   ]
  },
  {
   "cell_type": "code",
   "execution_count": null,
   "id": "0ea7d9a9",
   "metadata": {},
   "outputs": [],
   "source": []
  }
 ],
 "metadata": {
  "kernelspec": {
   "display_name": "Python 3",
   "language": "python",
   "name": "python3"
  },
  "language_info": {
   "codemirror_mode": {
    "name": "ipython",
    "version": 3
   },
   "file_extension": ".py",
   "mimetype": "text/x-python",
   "name": "python",
   "nbconvert_exporter": "python",
   "pygments_lexer": "ipython3",
   "version": "3.8.8"
  }
 },
 "nbformat": 4,
 "nbformat_minor": 5
}
