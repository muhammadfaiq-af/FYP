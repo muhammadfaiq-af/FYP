{
 "cells": [
  {
   "cell_type": "code",
   "execution_count": 44,
   "id": "95f178c8",
   "metadata": {},
   "outputs": [],
   "source": [
    "import cv2 as cv\n",
    "import numpy as np\n",
    "\n",
    "def mouse_event(event, x, y, flags, param):\n",
    "    if event == cv.EVENT_LBUTTONDOWN:\n",
    "        font = cv.FONT_HERSHEY_SIMPLEX\n",
    "        strXY = str(x) + ',' + str(y)\n",
    "        cv.putText(newimg, strXY , (x, y) , font, 1, (255,255,255), 1 )\n",
    "        cv.imshow(\"Pic\", newimg)\n",
    "img = cv.imread(\"E:\\FYP\\Python Practice For FYP\\messi.jpeg\")\n",
    "newimg = cv.resize(img, (700,500))\n",
    "cv.imshow(\"Pic\", newimg)\n",
    "cv.setMouseCallback(\"Pic\", mouse_event)\n",
    "cv.waitKey(0)\n",
    "\n",
    "cv.destroyAllWindows()"
   ]
  },
  {
   "cell_type": "code",
   "execution_count": 45,
   "id": "b60c6b13",
   "metadata": {},
   "outputs": [
    {
     "ename": "ValueError",
     "evalue": "could not broadcast input array from shape (47,17,3) into shape (0,0,3)",
     "output_type": "error",
     "traceback": [
      "\u001b[1;31m---------------------------------------------------------------------------\u001b[0m",
      "\u001b[1;31mValueError\u001b[0m                                Traceback (most recent call last)",
      "\u001b[1;32m<ipython-input-45-008ef17ebd01>\u001b[0m in \u001b[0;36m<module>\u001b[1;34m\u001b[0m\n\u001b[0;32m      8\u001b[0m \u001b[1;33m\u001b[0m\u001b[0m\n\u001b[0;32m      9\u001b[0m \u001b[0mball\u001b[0m \u001b[1;33m=\u001b[0m \u001b[0mnewimg\u001b[0m\u001b[1;33m[\u001b[0m\u001b[1;36m432\u001b[0m\u001b[1;33m:\u001b[0m\u001b[1;36m479\u001b[0m\u001b[1;33m,\u001b[0m \u001b[1;36m463\u001b[0m\u001b[1;33m:\u001b[0m\u001b[1;36m480\u001b[0m\u001b[1;33m]\u001b[0m\u001b[1;33m\u001b[0m\u001b[1;33m\u001b[0m\u001b[0m\n\u001b[1;32m---> 10\u001b[1;33m \u001b[0mnewimg\u001b[0m\u001b[1;33m[\u001b[0m\u001b[1;36m458\u001b[0m\u001b[1;33m:\u001b[0m\u001b[1;36m400\u001b[0m\u001b[1;33m,\u001b[0m \u001b[1;36m489\u001b[0m\u001b[1;33m:\u001b[0m\u001b[1;36m401\u001b[0m\u001b[1;33m]\u001b[0m \u001b[1;33m=\u001b[0m \u001b[0mball\u001b[0m\u001b[1;33m\u001b[0m\u001b[1;33m\u001b[0m\u001b[0m\n\u001b[0m\u001b[0;32m     11\u001b[0m \u001b[1;33m\u001b[0m\u001b[0m\n\u001b[0;32m     12\u001b[0m \u001b[1;33m\u001b[0m\u001b[0m\n",
      "\u001b[1;31mValueError\u001b[0m: could not broadcast input array from shape (47,17,3) into shape (0,0,3)"
     ]
    }
   ],
   "source": [
    "img = cv.imread(\"E:\\FYP\\Python Practice For FYP\\messi.jpeg\")\n",
    "newimg = cv.resize(img, (700,500))\n",
    "# print(img.size)\n",
    "# print(img.dtype)\n",
    "# print(img.shape)\n",
    "b,g,r = cv.split(newimg)\n",
    "newimg = cv.merge((b,g,r))\n",
    "\n",
    "ball = newimg[432:479, 463:480]\n",
    "newimg[458:400, 489:401] = ball\n",
    "\n",
    "\n",
    "\n",
    "cv.imshow(\"Pic\", newimg)\n",
    "cv.waitKey(0)\n",
    "\n",
    "cv.destroyAllWindows()"
   ]
  },
  {
   "cell_type": "code",
   "execution_count": 43,
   "id": "9e8c7405",
   "metadata": {},
   "outputs": [],
   "source": []
  },
  {
   "cell_type": "code",
   "execution_count": null,
   "id": "0cf9f22f",
   "metadata": {},
   "outputs": [],
   "source": []
  }
 ],
 "metadata": {
  "kernelspec": {
   "display_name": "Python 3",
   "language": "python",
   "name": "python3"
  },
  "language_info": {
   "codemirror_mode": {
    "name": "ipython",
    "version": 3
   },
   "file_extension": ".py",
   "mimetype": "text/x-python",
   "name": "python",
   "nbconvert_exporter": "python",
   "pygments_lexer": "ipython3",
   "version": "3.8.8"
  }
 },
 "nbformat": 4,
 "nbformat_minor": 5
}
